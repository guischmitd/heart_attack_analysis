{
 "metadata": {
  "language_info": {
   "codemirror_mode": {
    "name": "ipython",
    "version": 3
   },
   "file_extension": ".py",
   "mimetype": "text/x-python",
   "name": "python",
   "nbconvert_exporter": "python",
   "pygments_lexer": "ipython3",
   "version": "3.9.1"
  },
  "orig_nbformat": 2,
  "kernelspec": {
   "name": "python391jvsc74a57bd09a013c4ed1e060935dcc7a4dd8abb00aa2cf04d912d7eae544dc9fd3f5490b07",
   "display_name": "Python 3.9.1 64-bit"
  },
  "metadata": {
   "interpreter": {
    "hash": "9a013c4ed1e060935dcc7a4dd8abb00aa2cf04d912d7eae544dc9fd3f5490b07"
   }
  }
 },
 "nbformat": 4,
 "nbformat_minor": 2,
 "cells": [
  {
   "cell_type": "code",
   "execution_count": 50,
   "metadata": {},
   "outputs": [],
   "source": [
    "import pandas as pd\n",
    "import seaborn as sns"
   ]
  },
  {
   "cell_type": "code",
   "execution_count": 2,
   "metadata": {},
   "outputs": [],
   "source": [
    "df = pd.read_csv('data/processed/heart_risk.csv')\n",
    "irrelevant = ['id']\n",
    "df = df.drop(irrelevant, axis=1)"
   ]
  },
  {
   "cell_type": "code",
   "execution_count": 28,
   "metadata": {},
   "outputs": [],
   "source": []
  },
  {
   "cell_type": "code",
   "execution_count": null,
   "metadata": {},
   "outputs": [],
   "source": []
  },
  {
   "cell_type": "code",
   "execution_count": 33,
   "metadata": {},
   "outputs": [
    {
     "output_type": "execute_result",
     "data": {
      "text/plain": [
       "ejection_frac_ex      -1.000000\n",
       "heart_rate_peak       -0.400459\n",
       "ex_duration           -0.311104\n",
       "rldv5e                -0.179731\n",
       "chol                  -0.170667\n",
       "blood_press_s_peak    -0.134437\n",
       "heart_rate_rest       -0.125558\n",
       "st_dep_measured_at     0.004065\n",
       "rldv5                  0.005515\n",
       "blood_press_d_rest     0.013144\n",
       "ejection_frac_rest     0.037608\n",
       "fasting_blood_sugar    0.079734\n",
       "blood_press_d_peak     0.083487\n",
       "smoker_cigs_per_day    0.110257\n",
       "blood_press_s_rest     0.144814\n",
       "smoker_years           0.172921\n",
       "met                    0.205721\n",
       "age                    0.230523\n",
       "st_dep                 0.386107\n",
       "vessels_colored        0.497286\n",
       "ami_risk               1.000000\n",
       "pncaden                     NaN\n",
       "Name: ami_risk, dtype: float64"
      ]
     },
     "metadata": {},
     "execution_count": 33
    }
   ],
   "source": [
    "df.corr()['ami_risk'].sort_values()"
   ]
  },
  {
   "cell_type": "code",
   "execution_count": 36,
   "metadata": {},
   "outputs": [
    {
     "output_type": "execute_result",
     "data": {
      "text/plain": [
       "age                     0.000000\n",
       "sex                     0.000000\n",
       "source                  0.000000\n",
       "ami_risk                0.000000\n",
       "cp_type                 0.000000\n",
       "rest_ecg                0.001653\n",
       "chol                    0.011570\n",
       "cath_date               0.018182\n",
       "ex_duration             0.089256\n",
       "ex_angina               0.089256\n",
       "heart_rate_peak         0.089256\n",
       "ekg_date                0.089256\n",
       "heart_rate_rest         0.090909\n",
       "ex_hypotension          0.092562\n",
       "blood_press_d_rest      0.095868\n",
       "blood_press_s_rest      0.095868\n",
       "blood_press_s_peak      0.102479\n",
       "ccblocker               0.102479\n",
       "st_dep                  0.102479\n",
       "blood_press_d_peak      0.102479\n",
       "betablocker             0.105785\n",
       "nitrate                 0.105785\n",
       "digitalis               0.110744\n",
       "diuretic                0.133884\n",
       "fasting_blood_sugar     0.135537\n",
       "met                     0.170248\n",
       "ex_protocol             0.170248\n",
       "st_slope_peak           0.196694\n",
       "smoker_cigs_per_day     0.209917\n",
       "heart_disease_family    0.213223\n",
       "smoker_years            0.228099\n",
       "rldv5e                  0.234711\n",
       "thalassemia             0.363636\n",
       "st_dep_measured_at      0.434711\n",
       "cp_exertion             0.466116\n",
       "cp_loc                  0.466116\n",
       "cp_rest_relieve         0.472727\n",
       "vessels_colored         0.525620\n",
       "smoker                  0.639669\n",
       "rldv5                   0.700826\n",
       "diabetes                0.877686\n",
       "ejection_frac_rest      0.953719\n",
       "wm_abnormal_rest        0.955372\n",
       "wm_abnormal_ex          0.995041\n",
       "ejection_frac_ex        0.996694\n",
       "pncaden                 1.000000\n",
       "dtype: float64"
      ]
     },
     "metadata": {},
     "execution_count": 36
    }
   ],
   "source": [
    "df.isna().mean().sort_values()"
   ]
  },
  {
   "cell_type": "code",
   "execution_count": 40,
   "metadata": {},
   "outputs": [
    {
     "output_type": "execute_result",
     "data": {
      "text/plain": [
       "    smoker  smoker_cigs_per_day  smoker_years\n",
       "0      NaN                 50.0          20.0\n",
       "1      NaN                 40.0          40.0\n",
       "2      NaN                 20.0          35.0\n",
       "5      NaN                 20.0          20.0\n",
       "9      NaN                 20.0          25.0\n",
       "..     ...                  ...           ...\n",
       "572    yes                 20.0           NaN\n",
       "574    yes                 20.0           NaN\n",
       "577    yes                 20.0           NaN\n",
       "582    yes                  NaN           NaN\n",
       "601    yes                  NaN           NaN\n",
       "\n",
       "[337 rows x 3 columns]"
      ],
      "text/html": "<div>\n<style scoped>\n    .dataframe tbody tr th:only-of-type {\n        vertical-align: middle;\n    }\n\n    .dataframe tbody tr th {\n        vertical-align: top;\n    }\n\n    .dataframe thead th {\n        text-align: right;\n    }\n</style>\n<table border=\"1\" class=\"dataframe\">\n  <thead>\n    <tr style=\"text-align: right;\">\n      <th></th>\n      <th>smoker</th>\n      <th>smoker_cigs_per_day</th>\n      <th>smoker_years</th>\n    </tr>\n  </thead>\n  <tbody>\n    <tr>\n      <th>0</th>\n      <td>NaN</td>\n      <td>50.0</td>\n      <td>20.0</td>\n    </tr>\n    <tr>\n      <th>1</th>\n      <td>NaN</td>\n      <td>40.0</td>\n      <td>40.0</td>\n    </tr>\n    <tr>\n      <th>2</th>\n      <td>NaN</td>\n      <td>20.0</td>\n      <td>35.0</td>\n    </tr>\n    <tr>\n      <th>5</th>\n      <td>NaN</td>\n      <td>20.0</td>\n      <td>20.0</td>\n    </tr>\n    <tr>\n      <th>9</th>\n      <td>NaN</td>\n      <td>20.0</td>\n      <td>25.0</td>\n    </tr>\n    <tr>\n      <th>...</th>\n      <td>...</td>\n      <td>...</td>\n      <td>...</td>\n    </tr>\n    <tr>\n      <th>572</th>\n      <td>yes</td>\n      <td>20.0</td>\n      <td>NaN</td>\n    </tr>\n    <tr>\n      <th>574</th>\n      <td>yes</td>\n      <td>20.0</td>\n      <td>NaN</td>\n    </tr>\n    <tr>\n      <th>577</th>\n      <td>yes</td>\n      <td>20.0</td>\n      <td>NaN</td>\n    </tr>\n    <tr>\n      <th>582</th>\n      <td>yes</td>\n      <td>NaN</td>\n      <td>NaN</td>\n    </tr>\n    <tr>\n      <th>601</th>\n      <td>yes</td>\n      <td>NaN</td>\n      <td>NaN</td>\n    </tr>\n  </tbody>\n</table>\n<p>337 rows × 3 columns</p>\n</div>"
     },
     "metadata": {},
     "execution_count": 40
    }
   ],
   "source": [
    "df[(df.smoker == 'yes') | (df.smoker_cigs_per_day > 0) | (df.smoker_years > 0)][['smoker', 'smoker_cigs_per_day', 'smoker_years']]\n"
   ]
  },
  {
   "cell_type": "code",
   "execution_count": 48,
   "metadata": {},
   "outputs": [
    {
     "output_type": "execute_result",
     "data": {
      "text/plain": [
       "0      63\n",
       "1      67\n",
       "2      67\n",
       "3      37\n",
       "4      41\n",
       "       ..\n",
       "600    54\n",
       "601    56\n",
       "602    56\n",
       "603    54\n",
       "604    66\n",
       "Name: age, Length: 605, dtype: int64"
      ]
     },
     "metadata": {},
     "execution_count": 48
    }
   ],
   "source": [
    "df.age"
   ]
  },
  {
   "cell_type": "code",
   "execution_count": 49,
   "metadata": {
    "tags": [
     "outputPrepend"
    ]
   },
   "outputs": [
    {
     "output_type": "stream",
     "name": "stdout",
     "text": [
      "fore assignment\nlocal variable 'age_score' referenced before assignment\nlocal variable 'age_score' referenced before assignment\nlocal variable 'age_score' referenced before assignment\nlocal variable 'age_score' referenced before assignment\nlocal variable 'age_score' referenced before assignment\nlocal variable 'age_score' referenced before assignment\nlocal variable 'age_score' referenced before assignment\nlocal variable 'age_score' referenced before assignment\nlocal variable 'age_score' referenced before assignment\nlocal variable 'age_score' referenced before assignment\nlocal variable 'age_score' referenced before assignment\nlocal variable 'age_score' referenced before assignment\nlocal variable 'age_score' referenced before assignment\nlocal variable 'age_score' referenced before assignment\nlocal variable 'age_score' referenced before assignment\nlocal variable 'age_score' referenced before assignment\nlocal variable 'age_score' referenced before assignment\nlocal variable 'age_score' referenced before assignment\nlocal variable 'age_score' referenced before assignment\nlocal variable 'age_score' referenced before assignment\nlocal variable 'age_score' referenced before assignment\nlocal variable 'age_score' referenced before assignment\nlocal variable 'age_score' referenced before assignment\nlocal variable 'age_score' referenced before assignment\nlocal variable 'age_score' referenced before assignment\nlocal variable 'age_score' referenced before assignment\nlocal variable 'age_score' referenced before assignment\nlocal variable 'age_score' referenced before assignment\nlocal variable 'age_score' referenced before assignment\nlocal variable 'age_score' referenced before assignment\nlocal variable 'age_score' referenced before assignment\nlocal variable 'age_score' referenced before assignment\nlocal variable 'age_score' referenced before assignment\nlocal variable 'age_score' referenced before assignment\nlocal variable 'age_score' referenced before assignment\nlocal variable 'age_score' referenced before assignment\nlocal variable 'age_score' referenced before assignment\nlocal variable 'age_score' referenced before assignment\nlocal variable 'age_score' referenced before assignment\nlocal variable 'age_score' referenced before assignment\nlocal variable 'age_score' referenced before assignment\nlocal variable 'age_score' referenced before assignment\nlocal variable 'age_score' referenced before assignment\nlocal variable 'age_score' referenced before assignment\nlocal variable 'age_score' referenced before assignment\nlocal variable 'age_score' referenced before assignment\nlocal variable 'age_score' referenced before assignment\nlocal variable 'age_score' referenced before assignment\nlocal variable 'age_score' referenced before assignment\nlocal variable 'age_score' referenced before assignment\nlocal variable 'age_score' referenced before assignment\nlocal variable 'age_score' referenced before assignment\nlocal variable 'age_score' referenced before assignment\nlocal variable 'age_score' referenced before assignment\nlocal variable 'age_score' referenced before assignment\nlocal variable 'age_score' referenced before assignment\nlocal variable 'age_score' referenced before assignment\nlocal variable 'age_score' referenced before assignment\nlocal variable 'age_score' referenced before assignment\nlocal variable 'age_score' referenced before assignment\nlocal variable 'age_score' referenced before assignment\nlocal variable 'age_score' referenced before assignment\nlocal variable 'age_score' referenced before assignment\nlocal variable 'age_score' referenced before assignment\nlocal variable 'age_score' referenced before assignment\nlocal variable 'age_score' referenced before assignment\nlocal variable 'age_score' referenced before assignment\nlocal variable 'age_score' referenced before assignment\nlocal variable 'age_score' referenced before assignment\nlocal variable 'age_score' referenced before assignment\nlocal variable 'age_score' referenced before assignment\nlocal variable 'age_score' referenced before assignment\nlocal variable 'age_score' referenced before assignment\nlocal variable 'age_score' referenced before assignment\nlocal variable 'age_score' referenced before assignment\nlocal variable 'age_score' referenced before assignment\nlocal variable 'age_score' referenced before assignment\nlocal variable 'age_score' referenced before assignment\nlocal variable 'age_score' referenced before assignment\nlocal variable 'age_score' referenced before assignment\nlocal variable 'age_score' referenced before assignment\nlocal variable 'age_score' referenced before assignment\nlocal variable 'age_score' referenced before assignment\nlocal variable 'age_score' referenced before assignment\nlocal variable 'age_score' referenced before assignment\nlocal variable 'age_score' referenced before assignment\nlocal variable 'age_score' referenced before assignment\nlocal variable 'age_score' referenced before assignment\nlocal variable 'age_score' referenced before assignment\nlocal variable 'age_score' referenced before assignment\nlocal variable 'age_score' referenced before assignment\nlocal variable 'age_score' referenced before assignment\nlocal variable 'age_score' referenced before assignment\nlocal variable 'age_score' referenced before assignment\nlocal variable 'age_score' referenced before assignment\nlocal variable 'age_score' referenced before assignment\nlocal variable 'age_score' referenced before assignment\nlocal variable 'age_score' referenced before assignment\nlocal variable 'age_score' referenced before assignment\nlocal variable 'age_score' referenced before assignment\nlocal variable 'age_score' referenced before assignment\nlocal variable 'age_score' referenced before assignment\nlocal variable 'age_score' referenced before assignment\nlocal variable 'age_score' referenced before assignment\nlocal variable 'age_score' referenced before assignment\nlocal variable 'age_score' referenced before assignment\nlocal variable 'age_score' referenced before assignment\nlocal variable 'age_score' referenced before assignment\nlocal variable 'age_score' referenced before assignment\nlocal variable 'age_score' referenced before assignment\nlocal variable 'age_score' referenced before assignment\nlocal variable 'age_score' referenced before assignment\nlocal variable 'age_score' referenced before assignment\nlocal variable 'age_score' referenced before assignment\nlocal variable 'age_score' referenced before assignment\nlocal variable 'age_score' referenced before assignment\nlocal variable 'age_score' referenced before assignment\nlocal variable 'age_score' referenced before assignment\nlocal variable 'age_score' referenced before assignment\nlocal variable 'age_score' referenced before assignment\nlocal variable 'age_score' referenced before assignment\nlocal variable 'age_score' referenced before assignment\nlocal variable 'age_score' referenced before assignment\nlocal variable 'age_score' referenced before assignment\nlocal variable 'age_score' referenced before assignment\nlocal variable 'age_score' referenced before assignment\nlocal variable 'age_score' referenced before assignment\nlocal variable 'age_score' referenced before assignment\nlocal variable 'age_score' referenced before assignment\nlocal variable 'age_score' referenced before assignment\nlocal variable 'age_score' referenced before assignment\nlocal variable 'age_score' referenced before assignment\nlocal variable 'age_score' referenced before assignment\nlocal variable 'age_score' referenced before assignment\nlocal variable 'age_score' referenced before assignment\nlocal variable 'age_score' referenced before assignment\nlocal variable 'age_score' referenced before assignment\nlocal variable 'age_score' referenced before assignment\nlocal variable 'age_score' referenced before assignment\nlocal variable 'age_score' referenced before assignment\nlocal variable 'age_score' referenced before assignment\nlocal variable 'age_score' referenced before assignment\nlocal variable 'age_score' referenced before assignment\nlocal variable 'age_score' referenced before assignment\nlocal variable 'age_score' referenced before assignment\nlocal variable 'age_score' referenced before assignment\nlocal variable 'age_score' referenced before assignment\nlocal variable 'age_score' referenced before assignment\nlocal variable 'age_score' referenced before assignment\nlocal variable 'age_score' referenced before assignment\nlocal variable 'age_score' referenced before assignment\nlocal variable 'age_score' referenced before assignment\nlocal variable 'age_score' referenced before assignment\nlocal variable 'age_score' referenced before assignment\nlocal variable 'age_score' referenced before assignment\nlocal variable 'age_score' referenced before assignment\nlocal variable 'age_score' referenced before assignment\nlocal variable 'age_score' referenced before assignment\nlocal variable 'age_score' referenced before assignment\nlocal variable 'age_score' referenced before assignment\nlocal variable 'age_score' referenced before assignment\nlocal variable 'age_score' referenced before assignment\nlocal variable 'age_score' referenced before assignment\nlocal variable 'age_score' referenced before assignment\nlocal variable 'age_score' referenced before assignment\nlocal variable 'age_score' referenced before assignment\nlocal variable 'age_score' referenced before assignment\nlocal variable 'age_score' referenced before assignment\nlocal variable 'age_score' referenced before assignment\nlocal variable 'age_score' referenced before assignment\nlocal variable 'age_score' referenced before assignment\nlocal variable 'age_score' referenced before assignment\nlocal variable 'age_score' referenced before assignment\nlocal variable 'age_score' referenced before assignment\nlocal variable 'age_score' referenced before assignment\nlocal variable 'age_score' referenced before assignment\nlocal variable 'age_score' referenced before assignment\nlocal variable 'age_score' referenced before assignment\nlocal variable 'age_score' referenced before assignment\nlocal variable 'age_score' referenced before assignment\nlocal variable 'age_score' referenced before assignment\nlocal variable 'age_score' referenced before assignment\nlocal variable 'age_score' referenced before assignment\nlocal variable 'age_score' referenced before assignment\nlocal variable 'age_score' referenced before assignment\nlocal variable 'age_score' referenced before assignment\nlocal variable 'age_score' referenced before assignment\nlocal variable 'age_score' referenced before assignment\nlocal variable 'age_score' referenced before assignment\nlocal variable 'age_score' referenced before assignment\nlocal variable 'age_score' referenced before assignment\nlocal variable 'age_score' referenced before assignment\nlocal variable 'age_score' referenced before assignment\nlocal variable 'age_score' referenced before assignment\nlocal variable 'age_score' referenced before assignment\nlocal variable 'age_score' referenced before assignment\nlocal variable 'age_score' referenced before assignment\nlocal variable 'age_score' referenced before assignment\nlocal variable 'age_score' referenced before assignment\nlocal variable 'age_score' referenced before assignment\nlocal variable 'age_score' referenced before assignment\nlocal variable 'age_score' referenced before assignment\nlocal variable 'age_score' referenced before assignment\nlocal variable 'age_score' referenced before assignment\nlocal variable 'age_score' referenced before assignment\nlocal variable 'age_score' referenced before assignment\nlocal variable 'age_score' referenced before assignment\nlocal variable 'age_score' referenced before assignment\nlocal variable 'age_score' referenced before assignment\nlocal variable 'age_score' referenced before assignment\nlocal variable 'age_score' referenced before assignment\nlocal variable 'age_score' referenced before assignment\nlocal variable 'age_score' referenced before assignment\nlocal variable 'age_score' referenced before assignment\nlocal variable 'age_score' referenced before assignment\nlocal variable 'age_score' referenced before assignment\nlocal variable 'age_score' referenced before assignment\nlocal variable 'age_score' referenced before assignment\nlocal variable 'age_score' referenced before assignment\nlocal variable 'age_score' referenced before assignment\nlocal variable 'age_score' referenced before assignment\nlocal variable 'age_score' referenced before assignment\nlocal variable 'age_score' referenced before assignment\nlocal variable 'age_score' referenced before assignment\nlocal variable 'age_score' referenced before assignment\nlocal variable 'age_score' referenced before assignment\nlocal variable 'age_score' referenced before assignment\nlocal variable 'age_score' referenced before assignment\nlocal variable 'age_score' referenced before assignment\nlocal variable 'age_score' referenced before assignment\nlocal variable 'age_score' referenced before assignment\nlocal variable 'age_score' referenced before assignment\nlocal variable 'age_score' referenced before assignment\nlocal variable 'age_score' referenced before assignment\nlocal variable 'age_score' referenced before assignment\n'builtin_function_or_method' object is not iterable\nlocal variable 'age_score' referenced before assignment\nlocal variable 'age_score' referenced before assignment\nlocal variable 'age_score' referenced before assignment\nlocal variable 'age_score' referenced before assignment\nlocal variable 'age_score' referenced before assignment\nlocal variable 'age_score' referenced before assignment\nlocal variable 'age_score' referenced before assignment\nlocal variable 'age_score' referenced before assignment\nlocal variable 'age_score' referenced before assignment\nlocal variable 'age_score' referenced before assignment\nlocal variable 'age_score' referenced before assignment\nlocal variable 'age_score' referenced before assignment\nlocal variable 'age_score' referenced before assignment\nlocal variable 'age_score' referenced before assignment\nlocal variable 'age_score' referenced before assignment\nlocal variable 'age_score' referenced before assignment\nlocal variable 'age_score' referenced before assignment\nlocal variable 'age_score' referenced before assignment\n'builtin_function_or_method' object is not iterable\nlocal variable 'age_score' referenced before assignment\nlocal variable 'age_score' referenced before assignment\nlocal variable 'age_score' referenced before assignment\nlocal variable 'age_score' referenced before assignment\nlocal variable 'age_score' referenced before assignment\nlocal variable 'age_score' referenced before assignment\nlocal variable 'age_score' referenced before assignment\nlocal variable 'age_score' referenced before assignment\nlocal variable 'age_score' referenced before assignment\nlocal variable 'age_score' referenced before assignment\nlocal variable 'age_score' referenced before assignment\nlocal variable 'age_score' referenced before assignment\nlocal variable 'age_score' referenced before assignment\nlocal variable 'age_score' referenced before assignment\nlocal variable 'age_score' referenced before assignment\nlocal variable 'age_score' referenced before assignment\nlocal variable 'age_score' referenced before assignment\nlocal variable 'age_score' referenced before assignment\nlocal variable 'age_score' referenced before assignment\nlocal variable 'age_score' referenced before assignment\nlocal variable 'age_score' referenced before assignment\nlocal variable 'age_score' referenced before assignment\nlocal variable 'age_score' referenced before assignment\nlocal variable 'age_score' referenced before assignment\nlocal variable 'age_score' referenced before assignment\nlocal variable 'age_score' referenced before assignment\nlocal variable 'age_score' referenced before assignment\nlocal variable 'age_score' referenced before assignment\nlocal variable 'age_score' referenced before assignment\nlocal variable 'age_score' referenced before assignment\nlocal variable 'age_score' referenced before assignment\nlocal variable 'age_score' referenced before assignment\nlocal variable 'age_score' referenced before assignment\nlocal variable 'age_score' referenced before assignment\nlocal variable 'age_score' referenced before assignment\nlocal variable 'age_score' referenced before assignment\nlocal variable 'age_score' referenced before assignment\nlocal variable 'age_score' referenced before assignment\nlocal variable 'age_score' referenced before assignment\nlocal variable 'age_score' referenced before assignment\nlocal variable 'age_score' referenced before assignment\nlocal variable 'age_score' referenced before assignment\nlocal variable 'age_score' referenced before assignment\nlocal variable 'age_score' referenced before assignment\nlocal variable 'age_score' referenced before assignment\nlocal variable 'age_score' referenced before assignment\nlocal variable 'age_score' referenced before assignment\nlocal variable 'age_score' referenced before assignment\nlocal variable 'age_score' referenced before assignment\nlocal variable 'age_score' referenced before assignment\nlocal variable 'age_score' referenced before assignment\nlocal variable 'age_score' referenced before assignment\nlocal variable 'age_score' referenced before assignment\nlocal variable 'age_score' referenced before assignment\nlocal variable 'age_score' referenced before assignment\nlocal variable 'age_score' referenced before assignment\nlocal variable 'age_score' referenced before assignment\nlocal variable 'age_score' referenced before assignment\nlocal variable 'age_score' referenced before assignment\nlocal variable 'age_score' referenced before assignment\nlocal variable 'age_score' referenced before assignment\nlocal variable 'age_score' referenced before assignment\nlocal variable 'age_score' referenced before assignment\nlocal variable 'age_score' referenced before assignment\nlocal variable 'age_score' referenced before assignment\nlocal variable 'age_score' referenced before assignment\nlocal variable 'age_score' referenced before assignment\nlocal variable 'age_score' referenced before assignment\nlocal variable 'age_score' referenced before assignment\nlocal variable 'age_score' referenced before assignment\nlocal variable 'age_score' referenced before assignment\nlocal variable 'age_score' referenced before assignment\nlocal variable 'age_score' referenced before assignment\nlocal variable 'age_score' referenced before assignment\nlocal variable 'age_score' referenced before assignment\nlocal variable 'age_score' referenced before assignment\nlocal variable 'age_score' referenced before assignment\nlocal variable 'age_score' referenced before assignment\nlocal variable 'age_score' referenced before assignment\nlocal variable 'age_score' referenced before assignment\nlocal variable 'age_score' referenced before assignment\nlocal variable 'age_score' referenced before assignment\nlocal variable 'age_score' referenced before assignment\nlocal variable 'age_score' referenced before assignment\nlocal variable 'age_score' referenced before assignment\nlocal variable 'age_score' referenced before assignment\nlocal variable 'age_score' referenced before assignment\nlocal variable 'age_score' referenced before assignment\nlocal variable 'age_score' referenced before assignment\nlocal variable 'age_score' referenced before assignment\nlocal variable 'age_score' referenced before assignment\nlocal variable 'age_score' referenced before assignment\nlocal variable 'age_score' referenced before assignment\nlocal variable 'age_score' referenced before assignment\nlocal variable 'age_score' referenced before assignment\nlocal variable 'age_score' referenced before assignment\nlocal variable 'age_score' referenced before assignment\nlocal variable 'age_score' referenced before assignment\nlocal variable 'age_score' referenced before assignment\nlocal variable 'age_score' referenced before assignment\nlocal variable 'age_score' referenced before assignment\nlocal variable 'age_score' referenced before assignment\n"
     ]
    }
   ],
   "source": [
    "from framingham import FraminghamModel\n",
    "fram = FraminghamModel()\n",
    "fram_results = df.apply(fram.predict, axis=1)"
   ]
  },
  {
   "cell_type": "code",
   "execution_count": 46,
   "metadata": {},
   "outputs": [
    {
     "output_type": "execute_result",
     "data": {
      "text/plain": [
       "0     NaN\n",
       "1     NaN\n",
       "2     NaN\n",
       "3     NaN\n",
       "4     NaN\n",
       "       ..\n",
       "600   NaN\n",
       "601   NaN\n",
       "602   NaN\n",
       "603   NaN\n",
       "604   NaN\n",
       "Length: 605, dtype: float64"
      ]
     },
     "metadata": {},
     "execution_count": 46
    }
   ],
   "source": [
    "fram_results"
   ]
  },
  {
   "cell_type": "code",
   "execution_count": 37,
   "metadata": {},
   "outputs": [
    {
     "output_type": "execute_result",
     "data": {
      "text/plain": [
       "     age sex          cp_loc cp_exertion cp_rest_relieve          cp_type  \\\n",
       "0     63   M             NaN         NaN             NaN   typical_angina   \n",
       "1     67   M             NaN         NaN             NaN          no_pain   \n",
       "2     67   M             NaN         NaN             NaN          no_pain   \n",
       "3     37   M             NaN         NaN             NaN      non_anginal   \n",
       "4     41   F             NaN         NaN             NaN  atypical_angina   \n",
       "..   ...  ..             ...         ...             ...              ...   \n",
       "600   54   M      substernal         yes             yes          no_pain   \n",
       "601   56   M      substernal         yes             yes          no_pain   \n",
       "602   56   M  non_substernal         yes             yes      non_anginal   \n",
       "603   54   M      substernal         yes             yes          no_pain   \n",
       "604   66   F      substernal         yes             yes          no_pain   \n",
       "\n",
       "     blood_press_s_rest   chol smoker  smoker_cigs_per_day  ...  st_dep  \\\n",
       "0                 145.0  233.0    NaN                 50.0  ...     2.3   \n",
       "1                 160.0  286.0    NaN                 40.0  ...     1.5   \n",
       "2                 120.0  229.0    NaN                 20.0  ...     2.6   \n",
       "3                 130.0  250.0    NaN                  0.0  ...     3.5   \n",
       "4                 130.0  204.0    NaN                  0.0  ...     1.4   \n",
       "..                  ...    ...    ...                  ...  ...     ...   \n",
       "600               180.0    0.0    NaN                  NaN  ...     1.5   \n",
       "601               125.0    0.0    yes                  NaN  ...     1.0   \n",
       "602               125.0    0.0    NaN                  NaN  ...    -2.0   \n",
       "603               130.0    0.0    NaN                  NaN  ...     3.0   \n",
       "604               155.0    0.0    NaN                  NaN  ...     0.0   \n",
       "\n",
       "     st_slope_peak rldv5 rldv5e vessels_colored   thalassemia ami_risk  \\\n",
       "0             down   NaN  172.0             0.0  fixed_defect        0   \n",
       "1             flat   NaN  185.0             3.0        normal        2   \n",
       "2             flat   NaN  150.0             2.0    reversible        1   \n",
       "3             down   NaN  167.0             0.0        normal        0   \n",
       "4               up   NaN   40.0             0.0        normal        0   \n",
       "..             ...   ...    ...             ...           ...      ...   \n",
       "600           flat   NaN    NaN             NaN    reversible        1   \n",
       "601           flat   NaN    NaN             NaN    reversible        3   \n",
       "602           flat   NaN    NaN             NaN    reversible        2   \n",
       "603           flat   NaN    NaN             NaN    reversible        3   \n",
       "604            NaN   NaN    NaN             NaN    reversible        1   \n",
       "\n",
       "                        source    ekg_date   cath_date  \n",
       "0    cleveland_minus_corrupted  1981-02-03  1981-02-16  \n",
       "1    cleveland_minus_corrupted  1981-03-05  1981-02-05  \n",
       "2    cleveland_minus_corrupted  1981-02-19  1981-02-20  \n",
       "3    cleveland_minus_corrupted  1981-02-13  1981-02-04  \n",
       "4    cleveland_minus_corrupted  1981-02-07  1981-02-18  \n",
       "..                         ...         ...         ...  \n",
       "600                switzerland  1985-05-06  1985-05-07  \n",
       "601                switzerland  1985-06-19  1985-06-20  \n",
       "602                switzerland  1985-06-24  1985-06-25  \n",
       "603                switzerland  1985-07-03  1985-07-04  \n",
       "604                switzerland  1985-07-03  1985-07-04  \n",
       "\n",
       "[605 rows x 40 columns]"
      ],
      "text/html": "<div>\n<style scoped>\n    .dataframe tbody tr th:only-of-type {\n        vertical-align: middle;\n    }\n\n    .dataframe tbody tr th {\n        vertical-align: top;\n    }\n\n    .dataframe thead th {\n        text-align: right;\n    }\n</style>\n<table border=\"1\" class=\"dataframe\">\n  <thead>\n    <tr style=\"text-align: right;\">\n      <th></th>\n      <th>age</th>\n      <th>sex</th>\n      <th>cp_loc</th>\n      <th>cp_exertion</th>\n      <th>cp_rest_relieve</th>\n      <th>cp_type</th>\n      <th>blood_press_s_rest</th>\n      <th>chol</th>\n      <th>smoker</th>\n      <th>smoker_cigs_per_day</th>\n      <th>...</th>\n      <th>st_dep</th>\n      <th>st_slope_peak</th>\n      <th>rldv5</th>\n      <th>rldv5e</th>\n      <th>vessels_colored</th>\n      <th>thalassemia</th>\n      <th>ami_risk</th>\n      <th>source</th>\n      <th>ekg_date</th>\n      <th>cath_date</th>\n    </tr>\n  </thead>\n  <tbody>\n    <tr>\n      <th>0</th>\n      <td>63</td>\n      <td>M</td>\n      <td>NaN</td>\n      <td>NaN</td>\n      <td>NaN</td>\n      <td>typical_angina</td>\n      <td>145.0</td>\n      <td>233.0</td>\n      <td>NaN</td>\n      <td>50.0</td>\n      <td>...</td>\n      <td>2.3</td>\n      <td>down</td>\n      <td>NaN</td>\n      <td>172.0</td>\n      <td>0.0</td>\n      <td>fixed_defect</td>\n      <td>0</td>\n      <td>cleveland_minus_corrupted</td>\n      <td>1981-02-03</td>\n      <td>1981-02-16</td>\n    </tr>\n    <tr>\n      <th>1</th>\n      <td>67</td>\n      <td>M</td>\n      <td>NaN</td>\n      <td>NaN</td>\n      <td>NaN</td>\n      <td>no_pain</td>\n      <td>160.0</td>\n      <td>286.0</td>\n      <td>NaN</td>\n      <td>40.0</td>\n      <td>...</td>\n      <td>1.5</td>\n      <td>flat</td>\n      <td>NaN</td>\n      <td>185.0</td>\n      <td>3.0</td>\n      <td>normal</td>\n      <td>2</td>\n      <td>cleveland_minus_corrupted</td>\n      <td>1981-03-05</td>\n      <td>1981-02-05</td>\n    </tr>\n    <tr>\n      <th>2</th>\n      <td>67</td>\n      <td>M</td>\n      <td>NaN</td>\n      <td>NaN</td>\n      <td>NaN</td>\n      <td>no_pain</td>\n      <td>120.0</td>\n      <td>229.0</td>\n      <td>NaN</td>\n      <td>20.0</td>\n      <td>...</td>\n      <td>2.6</td>\n      <td>flat</td>\n      <td>NaN</td>\n      <td>150.0</td>\n      <td>2.0</td>\n      <td>reversible</td>\n      <td>1</td>\n      <td>cleveland_minus_corrupted</td>\n      <td>1981-02-19</td>\n      <td>1981-02-20</td>\n    </tr>\n    <tr>\n      <th>3</th>\n      <td>37</td>\n      <td>M</td>\n      <td>NaN</td>\n      <td>NaN</td>\n      <td>NaN</td>\n      <td>non_anginal</td>\n      <td>130.0</td>\n      <td>250.0</td>\n      <td>NaN</td>\n      <td>0.0</td>\n      <td>...</td>\n      <td>3.5</td>\n      <td>down</td>\n      <td>NaN</td>\n      <td>167.0</td>\n      <td>0.0</td>\n      <td>normal</td>\n      <td>0</td>\n      <td>cleveland_minus_corrupted</td>\n      <td>1981-02-13</td>\n      <td>1981-02-04</td>\n    </tr>\n    <tr>\n      <th>4</th>\n      <td>41</td>\n      <td>F</td>\n      <td>NaN</td>\n      <td>NaN</td>\n      <td>NaN</td>\n      <td>atypical_angina</td>\n      <td>130.0</td>\n      <td>204.0</td>\n      <td>NaN</td>\n      <td>0.0</td>\n      <td>...</td>\n      <td>1.4</td>\n      <td>up</td>\n      <td>NaN</td>\n      <td>40.0</td>\n      <td>0.0</td>\n      <td>normal</td>\n      <td>0</td>\n      <td>cleveland_minus_corrupted</td>\n      <td>1981-02-07</td>\n      <td>1981-02-18</td>\n    </tr>\n    <tr>\n      <th>...</th>\n      <td>...</td>\n      <td>...</td>\n      <td>...</td>\n      <td>...</td>\n      <td>...</td>\n      <td>...</td>\n      <td>...</td>\n      <td>...</td>\n      <td>...</td>\n      <td>...</td>\n      <td>...</td>\n      <td>...</td>\n      <td>...</td>\n      <td>...</td>\n      <td>...</td>\n      <td>...</td>\n      <td>...</td>\n      <td>...</td>\n      <td>...</td>\n      <td>...</td>\n      <td>...</td>\n    </tr>\n    <tr>\n      <th>600</th>\n      <td>54</td>\n      <td>M</td>\n      <td>substernal</td>\n      <td>yes</td>\n      <td>yes</td>\n      <td>no_pain</td>\n      <td>180.0</td>\n      <td>0.0</td>\n      <td>NaN</td>\n      <td>NaN</td>\n      <td>...</td>\n      <td>1.5</td>\n      <td>flat</td>\n      <td>NaN</td>\n      <td>NaN</td>\n      <td>NaN</td>\n      <td>reversible</td>\n      <td>1</td>\n      <td>switzerland</td>\n      <td>1985-05-06</td>\n      <td>1985-05-07</td>\n    </tr>\n    <tr>\n      <th>601</th>\n      <td>56</td>\n      <td>M</td>\n      <td>substernal</td>\n      <td>yes</td>\n      <td>yes</td>\n      <td>no_pain</td>\n      <td>125.0</td>\n      <td>0.0</td>\n      <td>yes</td>\n      <td>NaN</td>\n      <td>...</td>\n      <td>1.0</td>\n      <td>flat</td>\n      <td>NaN</td>\n      <td>NaN</td>\n      <td>NaN</td>\n      <td>reversible</td>\n      <td>3</td>\n      <td>switzerland</td>\n      <td>1985-06-19</td>\n      <td>1985-06-20</td>\n    </tr>\n    <tr>\n      <th>602</th>\n      <td>56</td>\n      <td>M</td>\n      <td>non_substernal</td>\n      <td>yes</td>\n      <td>yes</td>\n      <td>non_anginal</td>\n      <td>125.0</td>\n      <td>0.0</td>\n      <td>NaN</td>\n      <td>NaN</td>\n      <td>...</td>\n      <td>-2.0</td>\n      <td>flat</td>\n      <td>NaN</td>\n      <td>NaN</td>\n      <td>NaN</td>\n      <td>reversible</td>\n      <td>2</td>\n      <td>switzerland</td>\n      <td>1985-06-24</td>\n      <td>1985-06-25</td>\n    </tr>\n    <tr>\n      <th>603</th>\n      <td>54</td>\n      <td>M</td>\n      <td>substernal</td>\n      <td>yes</td>\n      <td>yes</td>\n      <td>no_pain</td>\n      <td>130.0</td>\n      <td>0.0</td>\n      <td>NaN</td>\n      <td>NaN</td>\n      <td>...</td>\n      <td>3.0</td>\n      <td>flat</td>\n      <td>NaN</td>\n      <td>NaN</td>\n      <td>NaN</td>\n      <td>reversible</td>\n      <td>3</td>\n      <td>switzerland</td>\n      <td>1985-07-03</td>\n      <td>1985-07-04</td>\n    </tr>\n    <tr>\n      <th>604</th>\n      <td>66</td>\n      <td>F</td>\n      <td>substernal</td>\n      <td>yes</td>\n      <td>yes</td>\n      <td>no_pain</td>\n      <td>155.0</td>\n      <td>0.0</td>\n      <td>NaN</td>\n      <td>NaN</td>\n      <td>...</td>\n      <td>0.0</td>\n      <td>NaN</td>\n      <td>NaN</td>\n      <td>NaN</td>\n      <td>NaN</td>\n      <td>reversible</td>\n      <td>1</td>\n      <td>switzerland</td>\n      <td>1985-07-03</td>\n      <td>1985-07-04</td>\n    </tr>\n  </tbody>\n</table>\n<p>605 rows × 40 columns</p>\n</div>"
     },
     "metadata": {},
     "execution_count": 37
    }
   ],
   "source": [
    "df.drop(df.isna().mean()[df.isna().mean() >= .75].index, axis=1)"
   ]
  },
  {
   "cell_type": "code",
   "execution_count": null,
   "metadata": {},
   "outputs": [],
   "source": []
  }
 ]
}