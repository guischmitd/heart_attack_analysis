{
 "metadata": {
  "language_info": {
   "codemirror_mode": {
    "name": "ipython",
    "version": 3
   },
   "file_extension": ".py",
   "mimetype": "text/x-python",
   "name": "python",
   "nbconvert_exporter": "python",
   "pygments_lexer": "ipython3",
   "version": "3.9.1"
  },
  "orig_nbformat": 2,
  "kernelspec": {
   "name": "python391jvsc74a57bd09a013c4ed1e060935dcc7a4dd8abb00aa2cf04d912d7eae544dc9fd3f5490b07",
   "display_name": "Python 3.9.1 64-bit"
  },
  "metadata": {
   "interpreter": {
    "hash": "9a013c4ed1e060935dcc7a4dd8abb00aa2cf04d912d7eae544dc9fd3f5490b07"
   }
  }
 },
 "nbformat": 4,
 "nbformat_minor": 2,
 "cells": [
  {
   "cell_type": "code",
   "execution_count": 68,
   "metadata": {},
   "outputs": [],
   "source": [
    "import pandas as pd\n",
    "import numpy as np\n",
    "from matplotlib import pyplot as plt\n",
    "import seaborn as sns\n",
    "from pathlib import Path\n",
    "from functools import partial\n",
    "import re\n"
   ]
  },
  {
   "source": [
    "# Parsing raw data\n",
    "After interpreting the data structure of the raw files (available [here](https://archive.ics.uci.edu/ml/datasets/Heart+Disease)) and performing minor changes to the files (such as removing corrupted rows from `cleveland.data`), the following cells parse the files and schema, and generate a dataframe accordingly."
   ],
   "cell_type": "markdown",
   "metadata": {}
  },
  {
   "cell_type": "code",
   "execution_count": 69,
   "metadata": {
    "tags": []
   },
   "outputs": [],
   "source": [
    "def read_datafile(path):\n",
    "    with open(path, 'r') as src:\n",
    "        print(f'parsing {path}')\n",
    "        parsed_line = []\n",
    "        parsed_lines = []\n",
    "        for line in src:\n",
    "            try :\n",
    "                parts = line.strip().split(' ')\n",
    "\n",
    "                if re.match('[^\\W\\d_]', parts[-1]):\n",
    "                    # Name of the patient denotes the end of a row\n",
    "                    parsed_line += parts\n",
    "                    parsed_line += [Path(path).stem]\n",
    "                    parsed_lines.append(parsed_line)\n",
    "                    parsed_line = []\n",
    "                \n",
    "                else:\n",
    "                    parsed_line += parts\n",
    "\n",
    "            except Exception as e:\n",
    "                print(f'Error parsing {path}. Returning partial dataframe.')\n",
    "                break\n",
    "        \n",
    "    return pd.DataFrame(parsed_lines)"
   ]
  },
  {
   "cell_type": "code",
   "execution_count": 70,
   "metadata": {},
   "outputs": [
    {
     "output_type": "stream",
     "name": "stdout",
     "text": [
      "parsing data\\raw\\cleveland.data\nError parsing \"data\\raw\\cleveland.data\" : 'charmap' codec can't decode byte 0x8d in position 1489: character maps to <undefined>\nparsing data\\raw\\cleveland_minus_corrupted.data\nparsing data\\raw\\hungarian.data\nparsing data\\raw\\long-beach-va.data\nparsing data\\raw\\switzerland.data\n"
     ]
    }
   ],
   "source": [
    "datapaths = list(Path('data/raw').glob('*.data'))\n",
    "dfs = []\n",
    "for path in datapaths:\n",
    "    try:\n",
    "        dfs.append(read_datafile(path))\n",
    "    except Exception as e:\n",
    "        print(f'Error parsing \"{path}\" : {e}')"
   ]
  },
  {
   "cell_type": "code",
   "execution_count": 71,
   "metadata": {},
   "outputs": [],
   "source": [
    "# Parsing and composing a schema dictionary from the data schema\n",
    "\n",
    "with open('data/raw/schema.txt', 'r') as src:\n",
    "    schema = {}\n",
    "    desc = {}\n",
    "    current_col = 0\n",
    "    for line in src:\n",
    "        parts = line.split(' ')\n",
    "        try:\n",
    "            current_col = int(parts[0]) - 1\n",
    "            schema[current_col] = parts[1].strip(':').strip()\n",
    "            desc[schema[current_col]] = ' '.join(parts[1:])\n",
    "        except:\n",
    "            desc[schema[current_col]] += line \n"
   ]
  },
  {
   "cell_type": "code",
   "execution_count": 72,
   "metadata": {},
   "outputs": [
    {
     "output_type": "execute_result",
     "data": {
      "text/plain": [
       "{'id': 'id: patient identification number\\n',\n",
       " 'ssn': 'ssn: social security number (I replaced this with a dummy value of 0)\\n',\n",
       " 'age': 'age: age in years\\n',\n",
       " 'sex': 'sex: sex (1 = male; 0 = female)\\n',\n",
       " 'cp_substernal': 'cp_substernal: chest pain location (1 = substernal; 0 = otherwise)\\n',\n",
       " 'cp_exertion': 'cp_exertion (1 = provoked by exertion; 0 = otherwise)\\n',\n",
       " 'cp_rest_relieve': 'cp_rest_relieve (1 = relieved after rest; 0 = otherwise)\\n',\n",
       " 'pncaden': 'pncaden (sum of 5, 6, and 7)\\n',\n",
       " 'cp_type': 'cp_type: chest pain type\\n-- Typical angina pectoris. Pain that occurs in the anterior thorax, neck, shoulders, jaw, or arms is precipitated by exertion and relieved within 20 min by rest.\\n-- Atypical angina. Pain in one of the above locations and either not precipitated by exertion or not relieved by rest within 20 min.\\n-- Nonanginal pain. Pain not located in any of the above locations, or if so located not related to exertion, and lasting less than 10 sec or longer than 30 min.\\n-- No pain.\\n',\n",
       " 'blood_press_s_rest': 'blood_press_s_rest: resting systolic blood pressure (in mm Hg on admission to the hospital)\\n',\n",
       " 'htn': 'htn\\n',\n",
       " 'chol': 'chol: serum cholestoral in mg/dl\\n',\n",
       " 'smoker': 'smoker: 1 = yes; 0 = no (is or is not a smoker)\\n',\n",
       " 'smoker_cigs_per_day': 'smoker_cigs_per_day: (cigarettes per day)\\n',\n",
       " 'smoker_years': 'smoker_years: (number of years as a smoker)\\n',\n",
       " 'fasting_blood_sugar': 'fasting_blood_sugar: (fasting blood sugar > 120 mg/dl) (1 = true; 0 = false)\\n',\n",
       " 'diabetes': 'diabetes: (1 = history of diabetes; 0 = no such history)\\n',\n",
       " 'heart_disease_family': 'heart_disease_family: family history of coronary artery disease (1 = yes; 0 = no)\\n',\n",
       " 'rest_ecg': \"rest_ecg: resting electrocardiographic results\\n-- Value 0: normal\\n-- Value 1: having ST-T wave abnormality (T wave inversions and/or ST elevation or depression of > 0.05 mV)\\n-- Value 2: showing probable or definite left ventricular hypertrophy by Estes' criteria\\n\",\n",
       " 'ekgmo': 'ekgmo (month of exercise ECG reading)\\n',\n",
       " 'ekgday': 'ekgday (day of exercise ECG reading)\\n',\n",
       " 'ekgyr': 'ekgyr (year of exercise ECG reading)\\n',\n",
       " 'digitalis_used': 'digitalis_used (digitalis used during exercise ECG: 1 = yes; 0 = no)\\n',\n",
       " 'betablocker_used': 'betablocker_used (Beta blocker used during exercise ECG: 1 = yes; 0 = no)\\n',\n",
       " 'nitrate_used': 'nitrate_used (nitrates used during exercise ECG: 1 = yes; 0 = no)\\n',\n",
       " 'ccblocker_used': 'ccblocker_used (calcium channel blocker used during exercise ECG: 1 = yes; 0 = no)\\n',\n",
       " 'diuretic_used': 'diuretic_used (diuretic used used during exercise ECG: 1 = yes; 0 = no)\\n',\n",
       " 'ex_protocol': 'ex_protocol: exercise protocol\\n-- 1 = Bruce\\n-- 2 = Kottus\\n-- 3 = McHenry\\n-- 4 = fast Balke\\n-- 5 = Balke\\n-- 6 = Noughton\\n-- 7 = bike 150 klbm/min (Work rate in kilopounds-meter per minute. 1 klbm/min = 6.1182972778676 W)\\n-- 8 = bike 125 klbm/min (Work rate in kilopounds-meter per minute. 1 klbm/min = 6.1182972778676 W)\\n-- 9 = bike 100 klbm/min (Work rate in kilopounds-meter per minute. 1 klbm/min = 6.1182972778676 W)\\n-- 10 = bike 75 klbm/min (Work rate in kilopounds-meter per minute. 1 klbm/min = 6.1182972778676 W)\\n-- 11 = bike 50 klbm/min (Work rate in kilopounds-meter per minute. 1 klbm/min = 6.1182972778676 W)\\n-- 12 = arm ergometer\\n',\n",
       " 'ex_duration': 'ex_duration: duration of exercise test in minutes\\n',\n",
       " 'st_dep_measured_at': 'st_dep_measured_at: time when ST measure depression was noted\\n',\n",
       " 'met': 'met: mets achieved\\n',\n",
       " 'heart_rate_peak': 'heart_rate_peak: maximum heart rate achieved in stress test\\n',\n",
       " 'heart_rate_rest': 'heart_rate_rest: resting heart rate achieved before stress test\\n',\n",
       " 'blood_press_s_peak': 'blood_press_s_peak: peak exercise systolic blood pressure \\n',\n",
       " 'blood_press_d_peak': 'blood_press_d_peak: peak exercise diastolic blood pressure\\n',\n",
       " 'dummy': 'dummy\\n',\n",
       " 'blood_press_d_rest': 'blood_press_d_rest: resting diastolic blood pressure\\n',\n",
       " 'ex_angina': 'ex_angina: exercise induced angina (1 = yes; 0 = no)\\n',\n",
       " 'ex_hypotension': 'ex_hypotension: exercise induced hypotension (1 = yes; 0 = no)\\n',\n",
       " 'st_dep': 'st_dep = ST depression induced by exercise relative to rest\\n',\n",
       " 'st_slope_peak': 'st_slope_peak: the slope of the peak exercise ST segment\\n-- Value 1: upsloping\\n-- Value 2: flat\\n-- Value 3: downsloping\\n',\n",
       " 'rldv5': 'rldv5: height at rest\\n',\n",
       " 'rldv5e': 'rldv5e: height at peak exercise\\n',\n",
       " 'vessels_colored': 'vessels_colored: number of major vessels (0-3) colored by fluoroscopy\\n',\n",
       " 'restckm': 'restckm: irrelevant\\n',\n",
       " 'exerckm': 'exerckm: irrelevant\\n',\n",
       " 'ejection_frac_rest': 'ejection_frac_rest: rest raidonuclid (sp?) ejection fraction\\n',\n",
       " 'wm_abnormal_rest': 'wm_abnormal_rest: rest wall (sp?) motion abnormality\\n-- 0 = none\\n-- 1 = mild or moderate\\n-- 2 = moderate or severe\\n-- 3 = akinesis or dyskmem (sp?)\\n',\n",
       " 'ejection_frac_ex': 'ejection_frac_ex: exercise radinalid (sp?) ejection fraction\\n',\n",
       " 'wm_abnormal_ex': 'wm_abnormal_ex: exercise wall (sp?) motion\\n',\n",
       " 'thalium_stress_result': 'thalium_stress_result: 3 = normal (no defects observed); 6 = fixed defect (defects present during exercise that persisted after redistribution); 7 = reversable defect (defects present during exercise but normalized afterward)\\n',\n",
       " 'thalsev': 'thalsev: not used\\n',\n",
       " 'thalpul': 'thalpul: not used\\n',\n",
       " 'earlobe': 'earlobe: not used\\n',\n",
       " 'cmo': 'cmo: month of cardiac cath (sp?) (perhaps \"call\")\\n',\n",
       " 'cday': 'cday: day of cardiac cath (sp?)\\n',\n",
       " 'cyr': 'cyr: year of cardiac cath (sp?)\\n',\n",
       " 'cad': 'cad: diagnosis of heart disease (angiographic disease status)\\n-- Value 0: < 50% diameter narrowing\\n-- Value 1: > 50% diameter narrowing\\n-- (in any major vessel: attributes 59 through 68 are vessels)\\n',\n",
       " 'lmt': 'lmt\\n',\n",
       " 'ladprox': 'ladprox\\n',\n",
       " 'laddist': 'laddist\\n',\n",
       " 'diag': 'diag\\n',\n",
       " 'cxmain': 'cxmain\\n',\n",
       " 'ramus': 'ramus\\n',\n",
       " 'om1': 'om1\\n',\n",
       " 'om2': 'om2\\n',\n",
       " 'rcaprox': 'rcaprox\\n',\n",
       " 'rcadist': 'rcadist\\n',\n",
       " 'lvx1': 'lvx1: not used\\n',\n",
       " 'lvx2': 'lvx2: not used\\n',\n",
       " 'lvx3': 'lvx3: not used\\n',\n",
       " 'lvx4': 'lvx4: not used\\n',\n",
       " 'lvf': 'lvf: not used\\n',\n",
       " 'cathef': 'cathef: not used\\n',\n",
       " 'junk': 'junk: not used\\n',\n",
       " 'name': 'name: last name of patient (I replaced this with the dummy string \"name\")'}"
      ]
     },
     "metadata": {},
     "execution_count": 72
    }
   ],
   "source": [
    "desc"
   ]
  },
  {
   "cell_type": "code",
   "execution_count": 73,
   "metadata": {},
   "outputs": [
    {
     "output_type": "stream",
     "name": "stdout",
     "text": [
      "(282, 77)\n(294, 77)\n(200, 77)\n(123, 77)\n"
     ]
    }
   ],
   "source": [
    "for df in dfs:\n",
    "    print(df.shape)"
   ]
  },
  {
   "cell_type": "code",
   "execution_count": 74,
   "metadata": {},
   "outputs": [
    {
     "output_type": "stream",
     "name": "stdout",
     "text": [
      "<class 'pandas.core.frame.DataFrame'>\nInt64Index: 899 entries, 0 to 122\nData columns (total 51 columns):\n #   Column                 Non-Null Count  Dtype  \n---  ------                 --------------  -----  \n 0   id                     899 non-null    int64  \n 1   age                    899 non-null    int64  \n 2   sex                    899 non-null    int64  \n 3   cp_substernal          617 non-null    float64\n 4   cp_exertion            617 non-null    float64\n 5   cp_rest_relieve        613 non-null    float64\n 6   pncaden                0 non-null      float64\n 7   cp_type                899 non-null    int64  \n 8   blood_press_s_rest     840 non-null    float64\n 9   chol                   869 non-null    float64\n 10  smoker                 230 non-null    float64\n 11  smoker_cigs_per_day    479 non-null    float64\n 12  smoker_years           467 non-null    float64\n 13  fasting_blood_sugar    809 non-null    float64\n 14  diabetes               95 non-null     float64\n 15  heart_disease_family   477 non-null    float64\n 16  rest_ecg               897 non-null    float64\n 17  ekgmo                  846 non-null    float64\n 18  ekgday                 845 non-null    float64\n 19  ekgyr                  846 non-null    float64\n 20  digitalis_used         831 non-null    float64\n 21  betablocker_used       833 non-null    float64\n 22  nitrate_used           834 non-null    float64\n 23  ccblocker_used         836 non-null    float64\n 24  diuretic_used          817 non-null    float64\n 25  ex_protocol            787 non-null    float64\n 26  ex_duration            843 non-null    float64\n 27  st_dep_measured_at     446 non-null    float64\n 28  met                    794 non-null    float64\n 29  heart_rate_peak        844 non-null    float64\n 30  heart_rate_rest        843 non-null    float64\n 31  blood_press_s_peak     836 non-null    float64\n 32  blood_press_d_peak     836 non-null    float64\n 33  blood_press_d_rest     840 non-null    float64\n 34  ex_angina              844 non-null    float64\n 35  ex_hypotension         841 non-null    float64\n 36  st_dep                 837 non-null    float64\n 37  st_slope_peak          591 non-null    float64\n 38  rldv5                  474 non-null    float64\n 39  rldv5e                 757 non-null    float64\n 40  vessels_colored        291 non-null    float64\n 41  ejection_frac_rest     28 non-null     float64\n 42  wm_abnormal_rest       30 non-null     float64\n 43  ejection_frac_ex       2 non-null      float64\n 44  wm_abnormal_ex         5 non-null      float64\n 45  thalium_stress_result  422 non-null    float64\n 46  cmo                    888 non-null    float64\n 47  cday                   890 non-null    float64\n 48  cyr                    890 non-null    float64\n 49  cad                    899 non-null    int64  \n 50  source                 899 non-null    object \ndtypes: float64(45), int64(5), object(1)\nmemory usage: 365.2+ KB\n"
     ]
    }
   ],
   "source": [
    "df = pd.concat(dfs)\n",
    "df.columns = [v for k, v in schema.items()] + ['source']\n",
    "df = df.replace({'?': None, '-9': None})\n",
    "\n",
    "for col in df.columns:\n",
    "    try:\n",
    "        df[col] = pd.to_numeric(df[col])\n",
    "    except:\n",
    "        continue\n",
    "\n",
    "# Inspecting the distribution of unused columns or columns with descriptions missing and subsequently dropping these columns from the dataframe\n",
    "unused_cols = ['ssn', 'name', 'junk', 'cathef', 'lvf', 'lvx4', 'lvx3', 'lvx2', 'lvx1',  'earlobe', 'thalpul', 'thalsev', 'exerckm', 'restckm']\n",
    "\n",
    "no_desc_cols = ['rcadist', 'rcaprox', 'om1', 'om2', 'ramus', 'cxmain', 'diag', 'laddist', 'ladprox', 'lmt', 'htn', 'dummy']\n",
    "\n",
    "df = df.drop(unused_cols + no_desc_cols, axis=1)\n",
    "\n",
    "df.info()"
   ]
  },
  {
   "source": [
    "# Categorial remapping and date interpretation"
   ],
   "cell_type": "markdown",
   "metadata": {}
  },
  {
   "cell_type": "code",
   "execution_count": 75,
   "metadata": {},
   "outputs": [
    {
     "output_type": "execute_result",
     "data": {
      "text/plain": [
       "source         smoker\n",
       "hungarian      0.0       10\n",
       "               1.0        2\n",
       "long-beach-va  1.0       99\n",
       "               0.0       96\n",
       "switzerland    1.0       18\n",
       "               0.0        5\n",
       "Name: smoker, dtype: int64"
      ]
     },
     "metadata": {},
     "execution_count": 75
    }
   ],
   "source": [
    "df.groupby('source').smoker.value_counts()"
   ]
  },
  {
   "cell_type": "code",
   "execution_count": 76,
   "metadata": {},
   "outputs": [
    {
     "output_type": "execute_result",
     "data": {
      "text/plain": [
       "       id  age sex cp_substernal cp_exertion cp_rest_relieve  pncaden  \\\n",
       "0       1   63   M           NaN         NaN             NaN      NaN   \n",
       "1       2   67   M           NaN         NaN             NaN      NaN   \n",
       "2       3   67   M           NaN         NaN             NaN      NaN   \n",
       "3       4   37   M           NaN         NaN             NaN      NaN   \n",
       "4       6   41   F           NaN         NaN             NaN      NaN   \n",
       "..    ...  ...  ..           ...         ...             ...      ...   \n",
       "118  4070   54   M           yes         yes             yes      NaN   \n",
       "119  4071   56   M           yes         yes             yes      NaN   \n",
       "120  4072   56   M            no         yes             yes      NaN   \n",
       "121  4073   54   M           yes         yes             yes      NaN   \n",
       "122  4074   66   F           yes         yes             yes      NaN   \n",
       "\n",
       "             cp_type  blood_press_s_rest   chol  ... vessels_colored  \\\n",
       "0     typical_angina               145.0  233.0  ...             0.0   \n",
       "1            no_pain               160.0  286.0  ...             3.0   \n",
       "2            no_pain               120.0  229.0  ...             2.0   \n",
       "3        non_anginal               130.0  250.0  ...             0.0   \n",
       "4    atypical_angina               130.0  204.0  ...             0.0   \n",
       "..               ...                 ...    ...  ...             ...   \n",
       "118          no_pain               180.0    0.0  ...             NaN   \n",
       "119          no_pain               125.0    0.0  ...             NaN   \n",
       "120      non_anginal               125.0    0.0  ...             NaN   \n",
       "121          no_pain               130.0    0.0  ...             NaN   \n",
       "122          no_pain               155.0    0.0  ...             NaN   \n",
       "\n",
       "     ejection_frac_rest  wm_abnormal_rest  ejection_frac_ex wm_abnormal_ex  \\\n",
       "0                   NaN               NaN               NaN            NaN   \n",
       "1                   NaN               NaN               NaN            NaN   \n",
       "2                   NaN               NaN               NaN            NaN   \n",
       "3                   NaN               NaN               NaN            NaN   \n",
       "4                   NaN               NaN               NaN            NaN   \n",
       "..                  ...               ...               ...            ...   \n",
       "118                 NaN               NaN               NaN            NaN   \n",
       "119                 NaN               NaN               NaN            NaN   \n",
       "120                 NaN               NaN               NaN            NaN   \n",
       "121                 NaN               NaN               NaN            NaN   \n",
       "122                 NaN               NaN               NaN            NaN   \n",
       "\n",
       "    thalium_stress_result cad                     source   ekg_date  \\\n",
       "0            fixed_defect   0  cleveland_minus_corrupted 1981-02-03   \n",
       "1                  normal   2  cleveland_minus_corrupted 1981-03-05   \n",
       "2              reversible   1  cleveland_minus_corrupted 1981-02-19   \n",
       "3                  normal   0  cleveland_minus_corrupted 1981-02-13   \n",
       "4                  normal   0  cleveland_minus_corrupted 1981-02-07   \n",
       "..                    ...  ..                        ...        ...   \n",
       "118            reversible   1                switzerland 1985-05-06   \n",
       "119            reversible   3                switzerland 1985-06-19   \n",
       "120            reversible   2                switzerland 1985-06-24   \n",
       "121            reversible   3                switzerland 1985-07-03   \n",
       "122            reversible   1                switzerland 1985-07-03   \n",
       "\n",
       "    angiogram_date  \n",
       "0       1981-02-16  \n",
       "1       1981-02-05  \n",
       "2       1981-02-20  \n",
       "3       1981-02-04  \n",
       "4       1981-02-18  \n",
       "..             ...  \n",
       "118     1985-05-07  \n",
       "119     1985-06-20  \n",
       "120     1985-06-25  \n",
       "121     1985-07-04  \n",
       "122     1985-07-04  \n",
       "\n",
       "[899 rows x 47 columns]"
      ],
      "text/html": "<div>\n<style scoped>\n    .dataframe tbody tr th:only-of-type {\n        vertical-align: middle;\n    }\n\n    .dataframe tbody tr th {\n        vertical-align: top;\n    }\n\n    .dataframe thead th {\n        text-align: right;\n    }\n</style>\n<table border=\"1\" class=\"dataframe\">\n  <thead>\n    <tr style=\"text-align: right;\">\n      <th></th>\n      <th>id</th>\n      <th>age</th>\n      <th>sex</th>\n      <th>cp_substernal</th>\n      <th>cp_exertion</th>\n      <th>cp_rest_relieve</th>\n      <th>pncaden</th>\n      <th>cp_type</th>\n      <th>blood_press_s_rest</th>\n      <th>chol</th>\n      <th>...</th>\n      <th>vessels_colored</th>\n      <th>ejection_frac_rest</th>\n      <th>wm_abnormal_rest</th>\n      <th>ejection_frac_ex</th>\n      <th>wm_abnormal_ex</th>\n      <th>thalium_stress_result</th>\n      <th>cad</th>\n      <th>source</th>\n      <th>ekg_date</th>\n      <th>angiogram_date</th>\n    </tr>\n  </thead>\n  <tbody>\n    <tr>\n      <th>0</th>\n      <td>1</td>\n      <td>63</td>\n      <td>M</td>\n      <td>NaN</td>\n      <td>NaN</td>\n      <td>NaN</td>\n      <td>NaN</td>\n      <td>typical_angina</td>\n      <td>145.0</td>\n      <td>233.0</td>\n      <td>...</td>\n      <td>0.0</td>\n      <td>NaN</td>\n      <td>NaN</td>\n      <td>NaN</td>\n      <td>NaN</td>\n      <td>fixed_defect</td>\n      <td>0</td>\n      <td>cleveland_minus_corrupted</td>\n      <td>1981-02-03</td>\n      <td>1981-02-16</td>\n    </tr>\n    <tr>\n      <th>1</th>\n      <td>2</td>\n      <td>67</td>\n      <td>M</td>\n      <td>NaN</td>\n      <td>NaN</td>\n      <td>NaN</td>\n      <td>NaN</td>\n      <td>no_pain</td>\n      <td>160.0</td>\n      <td>286.0</td>\n      <td>...</td>\n      <td>3.0</td>\n      <td>NaN</td>\n      <td>NaN</td>\n      <td>NaN</td>\n      <td>NaN</td>\n      <td>normal</td>\n      <td>2</td>\n      <td>cleveland_minus_corrupted</td>\n      <td>1981-03-05</td>\n      <td>1981-02-05</td>\n    </tr>\n    <tr>\n      <th>2</th>\n      <td>3</td>\n      <td>67</td>\n      <td>M</td>\n      <td>NaN</td>\n      <td>NaN</td>\n      <td>NaN</td>\n      <td>NaN</td>\n      <td>no_pain</td>\n      <td>120.0</td>\n      <td>229.0</td>\n      <td>...</td>\n      <td>2.0</td>\n      <td>NaN</td>\n      <td>NaN</td>\n      <td>NaN</td>\n      <td>NaN</td>\n      <td>reversible</td>\n      <td>1</td>\n      <td>cleveland_minus_corrupted</td>\n      <td>1981-02-19</td>\n      <td>1981-02-20</td>\n    </tr>\n    <tr>\n      <th>3</th>\n      <td>4</td>\n      <td>37</td>\n      <td>M</td>\n      <td>NaN</td>\n      <td>NaN</td>\n      <td>NaN</td>\n      <td>NaN</td>\n      <td>non_anginal</td>\n      <td>130.0</td>\n      <td>250.0</td>\n      <td>...</td>\n      <td>0.0</td>\n      <td>NaN</td>\n      <td>NaN</td>\n      <td>NaN</td>\n      <td>NaN</td>\n      <td>normal</td>\n      <td>0</td>\n      <td>cleveland_minus_corrupted</td>\n      <td>1981-02-13</td>\n      <td>1981-02-04</td>\n    </tr>\n    <tr>\n      <th>4</th>\n      <td>6</td>\n      <td>41</td>\n      <td>F</td>\n      <td>NaN</td>\n      <td>NaN</td>\n      <td>NaN</td>\n      <td>NaN</td>\n      <td>atypical_angina</td>\n      <td>130.0</td>\n      <td>204.0</td>\n      <td>...</td>\n      <td>0.0</td>\n      <td>NaN</td>\n      <td>NaN</td>\n      <td>NaN</td>\n      <td>NaN</td>\n      <td>normal</td>\n      <td>0</td>\n      <td>cleveland_minus_corrupted</td>\n      <td>1981-02-07</td>\n      <td>1981-02-18</td>\n    </tr>\n    <tr>\n      <th>...</th>\n      <td>...</td>\n      <td>...</td>\n      <td>...</td>\n      <td>...</td>\n      <td>...</td>\n      <td>...</td>\n      <td>...</td>\n      <td>...</td>\n      <td>...</td>\n      <td>...</td>\n      <td>...</td>\n      <td>...</td>\n      <td>...</td>\n      <td>...</td>\n      <td>...</td>\n      <td>...</td>\n      <td>...</td>\n      <td>...</td>\n      <td>...</td>\n      <td>...</td>\n      <td>...</td>\n    </tr>\n    <tr>\n      <th>118</th>\n      <td>4070</td>\n      <td>54</td>\n      <td>M</td>\n      <td>yes</td>\n      <td>yes</td>\n      <td>yes</td>\n      <td>NaN</td>\n      <td>no_pain</td>\n      <td>180.0</td>\n      <td>0.0</td>\n      <td>...</td>\n      <td>NaN</td>\n      <td>NaN</td>\n      <td>NaN</td>\n      <td>NaN</td>\n      <td>NaN</td>\n      <td>reversible</td>\n      <td>1</td>\n      <td>switzerland</td>\n      <td>1985-05-06</td>\n      <td>1985-05-07</td>\n    </tr>\n    <tr>\n      <th>119</th>\n      <td>4071</td>\n      <td>56</td>\n      <td>M</td>\n      <td>yes</td>\n      <td>yes</td>\n      <td>yes</td>\n      <td>NaN</td>\n      <td>no_pain</td>\n      <td>125.0</td>\n      <td>0.0</td>\n      <td>...</td>\n      <td>NaN</td>\n      <td>NaN</td>\n      <td>NaN</td>\n      <td>NaN</td>\n      <td>NaN</td>\n      <td>reversible</td>\n      <td>3</td>\n      <td>switzerland</td>\n      <td>1985-06-19</td>\n      <td>1985-06-20</td>\n    </tr>\n    <tr>\n      <th>120</th>\n      <td>4072</td>\n      <td>56</td>\n      <td>M</td>\n      <td>no</td>\n      <td>yes</td>\n      <td>yes</td>\n      <td>NaN</td>\n      <td>non_anginal</td>\n      <td>125.0</td>\n      <td>0.0</td>\n      <td>...</td>\n      <td>NaN</td>\n      <td>NaN</td>\n      <td>NaN</td>\n      <td>NaN</td>\n      <td>NaN</td>\n      <td>reversible</td>\n      <td>2</td>\n      <td>switzerland</td>\n      <td>1985-06-24</td>\n      <td>1985-06-25</td>\n    </tr>\n    <tr>\n      <th>121</th>\n      <td>4073</td>\n      <td>54</td>\n      <td>M</td>\n      <td>yes</td>\n      <td>yes</td>\n      <td>yes</td>\n      <td>NaN</td>\n      <td>no_pain</td>\n      <td>130.0</td>\n      <td>0.0</td>\n      <td>...</td>\n      <td>NaN</td>\n      <td>NaN</td>\n      <td>NaN</td>\n      <td>NaN</td>\n      <td>NaN</td>\n      <td>reversible</td>\n      <td>3</td>\n      <td>switzerland</td>\n      <td>1985-07-03</td>\n      <td>1985-07-04</td>\n    </tr>\n    <tr>\n      <th>122</th>\n      <td>4074</td>\n      <td>66</td>\n      <td>F</td>\n      <td>yes</td>\n      <td>yes</td>\n      <td>yes</td>\n      <td>NaN</td>\n      <td>no_pain</td>\n      <td>155.0</td>\n      <td>0.0</td>\n      <td>...</td>\n      <td>NaN</td>\n      <td>NaN</td>\n      <td>NaN</td>\n      <td>NaN</td>\n      <td>NaN</td>\n      <td>reversible</td>\n      <td>1</td>\n      <td>switzerland</td>\n      <td>1985-07-03</td>\n      <td>1985-07-04</td>\n    </tr>\n  </tbody>\n</table>\n<p>899 rows × 47 columns</p>\n</div>"
     },
     "metadata": {},
     "execution_count": 76
    }
   ],
   "source": [
    "def remap_categoricals(dataframe):\n",
    "    df = dataframe.copy()\n",
    "    df['sex'] = df.sex.replace({0: 'F', 1: 'M'})\n",
    "    df['cp_substernal'] = df.cp_substernal.replace({1: 'yes', 0: 'no'})\n",
    "    df['cp_exertion'] = df.cp_exertion.replace({1: 'yes', 0: 'no'})\n",
    "    df['cp_rest_relieve'] = df.cp_rest_relieve.replace({1: 'yes', 0: 'no'})\n",
    "    df['cp_type'] = df.cp_type.replace({1: 'typical_angina', 2: 'atypical_angina', 3: 'non_anginal', 4: 'no_pain'})\n",
    "\n",
    "    df['smoker'] = df.smoker.replace({1: 'yes', 0: 'no'})\n",
    "    df['diabetes'] = df.diabetes.replace({1: 'yes', 0: 'no'})\n",
    "    df['heart_disease_family'] = df.heart_disease_family.replace({1: 'yes', 0: 'no'})\n",
    "    df['rest_ecg'] = df.rest_ecg.replace({0: 'normal', 1: 'st-t_abnormal', 2: 'hypertrophy'})\n",
    "    # {\n",
    "    df['digitalis_used'] = df.digitalis_used.replace({1: 'yes', 0: 'no'})\n",
    "    df['betablocker_used'] = df.betablocker_used.replace({1: 'yes', 0: 'no', 22.0: None})\n",
    "    df['nitrate_used'] = df.nitrate_used.replace({1: 'yes', 0: 'no'})\n",
    "    df['ccblocker_used'] = df.ccblocker_used.replace({1: 'yes', 0: 'no'})\n",
    "    df['diuretic_used'] = df.diuretic_used.replace({1: 'yes', 0: 'no'})\n",
    "    # } are these relevant?\n",
    "\n",
    "    df['ex_protocol'] = df.ex_protocol.replace({1: 'bruce', 2: 'kottus', 3: 'mchenry',\n",
    "                                                4: 'fast_balke', 5: 'balke', 6: 'noughton',\n",
    "                                                7: 'bike_150', 8: 'bike_125', 9: 'bike_100',\n",
    "                                               10: 'bike_75', 11: 'bike_50', 12: 'arm_ergometer'}) # Check protocols (can the bike ones be ordinal/numeric?)\n",
    "    df['ex_angina'] = df.ex_angina.replace({1: 'yes', 0: 'no'})\n",
    "    df['ex_hypotension'] = df.ex_hypotension.replace({1: 'yes', 0: 'no'}) # What is this?\n",
    "    df['st_slope_peak'] = df.st_slope_peak.replace({1: 'up', 2: 'flat', 3: 'down', 0: None})\n",
    "    df['wm_abnormal_rest'] = df.wm_abnormal_rest.replace({0: 'normal', 1: 'moderate', 2: 'severe', 3: 'akinesis_or_dyskmem'}) # dafuq is this\n",
    "    df['wm_abnormal_ex'] = df.wm_abnormal_ex.replace({1: 'yes', 0: 'no'})\n",
    "    \n",
    "    # Remapping and removing non standard values\n",
    "    df['thalium_stress_result'] = df.thalium_stress_result.replace({0: None, 1: None, 2: None, 3: 'normal', 4: None,\n",
    "                                                                    5: None, 6: 'fixed_defect', 7:'reversible'})\n",
    "\n",
    "    return df\n",
    "    \n",
    "\n",
    "def parse_date_cols(dataframe):\n",
    "    df = dataframe.copy()\n",
    "    \n",
    "    def parse_date(row, prefix='ekg'):\n",
    "        try:\n",
    "            out = pd.to_datetime(\"19{:02d}-{:02d}-{:02d}\".format(int(row[prefix+'yr']), int(row[prefix+'mo']), int(row[prefix+'day'])))\n",
    "        except:\n",
    "            out = None\n",
    "        return out\n",
    "    \n",
    "    df['ekg_date'] = df.apply(partial(parse_date, prefix='ekg'), axis=1)\n",
    "    df['angiogram_date'] = df.apply(partial(parse_date, prefix='c'), axis=1)\n",
    "    \n",
    "    df = df.drop(['ekgday', 'ekgmo', 'ekgyr', 'cday', 'cmo', 'cyr'], axis=1)\n",
    "    return df\n",
    "\n",
    "df = remap_categoricals(df)\n",
    "df = parse_date_cols(df)\n",
    "df"
   ]
  },
  {
   "cell_type": "code",
   "execution_count": 77,
   "metadata": {},
   "outputs": [
    {
     "output_type": "execute_result",
     "data": {
      "text/plain": [
       "Index(['id', 'age', 'sex', 'cp_substernal', 'cp_exertion', 'cp_rest_relieve',\n",
       "       'pncaden', 'cp_type', 'blood_press_s_rest', 'chol', 'smoker',\n",
       "       'smoker_cigs_per_day', 'smoker_years', 'fasting_blood_sugar',\n",
       "       'diabetes', 'heart_disease_family', 'rest_ecg', 'digitalis_used',\n",
       "       'betablocker_used', 'nitrate_used', 'ccblocker_used', 'diuretic_used',\n",
       "       'ex_protocol', 'ex_duration', 'st_dep_measured_at', 'met',\n",
       "       'heart_rate_peak', 'heart_rate_rest', 'blood_press_s_peak',\n",
       "       'blood_press_d_peak', 'blood_press_d_rest', 'ex_angina',\n",
       "       'ex_hypotension', 'st_dep', 'st_slope_peak', 'rldv5', 'rldv5e',\n",
       "       'vessels_colored', 'ejection_frac_rest', 'wm_abnormal_rest',\n",
       "       'ejection_frac_ex', 'wm_abnormal_ex', 'thalium_stress_result', 'cad',\n",
       "       'source', 'ekg_date', 'angiogram_date'],\n",
       "      dtype='object')"
      ]
     },
     "metadata": {},
     "execution_count": 77
    }
   ],
   "source": [
    "df.columns"
   ]
  },
  {
   "cell_type": "code",
   "execution_count": 78,
   "metadata": {},
   "outputs": [],
   "source": [
    "df.to_csv('data/processed/heart_risk.csv', index=None)"
   ]
  }
 ]
}